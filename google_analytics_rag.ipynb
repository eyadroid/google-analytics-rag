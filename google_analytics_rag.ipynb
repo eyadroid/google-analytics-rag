{
 "cells": [
  {
   "cell_type": "markdown",
   "metadata": {},
   "source": [
    "# Using RAG with Google Analytics"
   ]
  },
  {
   "cell_type": "markdown",
   "metadata": {},
   "source": [
    "Using [LangChain](https://www.langchain.com/), [GPT4All](https://gpt4all.io/index.html), and [Google Analysis Data API](https://developers.google.com/analytics/devguides/reporting/data/v1/quickstart-client-libraries). Make sure to read their documentation before starting."
   ]
  },
  {
   "cell_type": "markdown",
   "metadata": {},
   "source": [
    "## Steps\n",
    "1. Setup Google Analytics API.\n",
    "2. Save Google Analytics Data into a Dataframe.\n",
    "3. Use the Dataframe with the LLM."
   ]
  },
  {
   "cell_type": "markdown",
   "metadata": {},
   "source": [
    "### 1. Setup Google Analytics API.\n",
    "\n",
    "You need to create a `service account` from Google Cloud and download the service key and use it's path in `key_path`. You can learn how [here](https://support.google.com/a/answer/7378726?hl=en)."
   ]
  },
  {
   "cell_type": "code",
   "execution_count": 2,
   "metadata": {},
   "outputs": [],
   "source": [
    "from google.oauth2 import service_account\n",
    "import pandas as pd\n",
    "import itertools\n",
    "\n",
    "key_path=\"/path/to/your/service/key\"\n",
    "credentials = service_account.Credentials.from_service_account_file(key_path)"
   ]
  },
  {
   "cell_type": "markdown",
   "metadata": {},
   "source": [
    "Then, initialize Google Analytics Data API, with your preferences. Here, I am fetching countries and their corresponding sessions.\n",
    "\n",
    " Don't forget to set `property_id` to the project your are fetching."
   ]
  },
  {
   "cell_type": "code",
   "execution_count": 4,
   "metadata": {},
   "outputs": [
    {
     "name": "stdout",
     "output_type": "stream",
     "text": [
      "dimension_headers {\n",
      "  name: \"country\"\n",
      "}\n",
      "metric_headers {\n",
      "  name: \"sessions\"\n",
      "  type_: TYPE_INTEGER\n",
      "}\n",
      "rows {\n",
      "  dimension_values {\n",
      "    value: \"Algeria\"\n",
      "  }\n",
      "  metric_values {\n",
      "    value: \"84\"\n",
      "  }\n",
      "}\n",
      "rows {\n",
      "  dimension_values {\n",
      "    value: \"Morocco\"\n",
      "  }\n",
      "  metric_values {\n",
      "    value: \"52\"\n",
      "  }\n",
      "}\n",
      "rows {\n",
      "  dimension_values {\n",
      "    value: \"Iraq\"\n",
      "  }\n",
      "  metric_values {\n",
      "    value: \"44\"\n",
      "  }\n",
      "}\n",
      "rows {\n",
      "  dimension_values {\n",
      "    value: \"Saudi Arabia\"\n",
      "  }\n",
      "  metric_values {\n",
      "    value: \"44\"\n",
      "  }\n",
      "}\n",
      "rows {\n",
      "  dimension_values {\n",
      "    value: \"Egypt\"\n",
      "  }\n",
      "  metric_values {\n",
      "    value: \"42\"\n",
      "  }\n",
      "}\n",
      "rows {\n",
      "  dimension_values {\n",
      "    value: \"Jordan\"\n",
      "  }\n",
      "  metric_values {\n",
      "    value: \"28\"\n",
      "  }\n",
      "}\n",
      "rows {\n",
      "  dimension_values {\n",
      "    value: \"Libya\"\n",
      "  }\n",
      "  metric_values {\n",
      "    value: \"22\"\n",
      "  }\n",
      "}\n",
      "rows {\n",
      "  dimension_values {\n",
      "    value: \"Yemen\"\n",
      "  }\n",
      "  metric_values {\n",
      "    value: \"22\"\n",
      "  }\n",
      "}\n",
      "rows {\n",
      "  dimension_values {\n",
      "    value: \"Tunisia\"\n",
      "  }\n",
      "  metric_values {\n",
      "    value: \"15\"\n",
      "  }\n",
      "}\n",
      "rows {\n",
      "  dimension_values {\n",
      "    value: \"Lebanon\"\n",
      "  }\n",
      "  metric_values {\n",
      "    value: \"14\"\n",
      "  }\n",
      "}\n",
      "rows {\n",
      "  dimension_values {\n",
      "    value: \"Syria\"\n",
      "  }\n",
      "  metric_values {\n",
      "    value: \"12\"\n",
      "  }\n",
      "}\n",
      "rows {\n",
      "  dimension_values {\n",
      "    value: \"Israel\"\n",
      "  }\n",
      "  metric_values {\n",
      "    value: \"11\"\n",
      "  }\n",
      "}\n",
      "rows {\n",
      "  dimension_values {\n",
      "    value: \"Sudan\"\n",
      "  }\n",
      "  metric_values {\n",
      "    value: \"8\"\n",
      "  }\n",
      "}\n",
      "rows {\n",
      "  dimension_values {\n",
      "    value: \"Oman\"\n",
      "  }\n",
      "  metric_values {\n",
      "    value: \"4\"\n",
      "  }\n",
      "}\n",
      "rows {\n",
      "  dimension_values {\n",
      "    value: \"Singapore\"\n",
      "  }\n",
      "  metric_values {\n",
      "    value: \"4\"\n",
      "  }\n",
      "}\n",
      "rows {\n",
      "  dimension_values {\n",
      "    value: \"United Arab Emirates\"\n",
      "  }\n",
      "  metric_values {\n",
      "    value: \"4\"\n",
      "  }\n",
      "}\n",
      "rows {\n",
      "  dimension_values {\n",
      "    value: \"Bahrain\"\n",
      "  }\n",
      "  metric_values {\n",
      "    value: \"3\"\n",
      "  }\n",
      "}\n",
      "rows {\n",
      "  dimension_values {\n",
      "    value: \"Austria\"\n",
      "  }\n",
      "  metric_values {\n",
      "    value: \"2\"\n",
      "  }\n",
      "}\n",
      "rows {\n",
      "  dimension_values {\n",
      "    value: \"Germany\"\n",
      "  }\n",
      "  metric_values {\n",
      "    value: \"2\"\n",
      "  }\n",
      "}\n",
      "rows {\n",
      "  dimension_values {\n",
      "    value: \"Chad\"\n",
      "  }\n",
      "  metric_values {\n",
      "    value: \"1\"\n",
      "  }\n",
      "}\n",
      "rows {\n",
      "  dimension_values {\n",
      "    value: \"France\"\n",
      "  }\n",
      "  metric_values {\n",
      "    value: \"1\"\n",
      "  }\n",
      "}\n",
      "rows {\n",
      "  dimension_values {\n",
      "    value: \"Kuwait\"\n",
      "  }\n",
      "  metric_values {\n",
      "    value: \"1\"\n",
      "  }\n",
      "}\n",
      "rows {\n",
      "  dimension_values {\n",
      "    value: \"Mauritania\"\n",
      "  }\n",
      "  metric_values {\n",
      "    value: \"1\"\n",
      "  }\n",
      "}\n",
      "rows {\n",
      "  dimension_values {\n",
      "    value: \"Netherlands\"\n",
      "  }\n",
      "  metric_values {\n",
      "    value: \"1\"\n",
      "  }\n",
      "}\n",
      "rows {\n",
      "  dimension_values {\n",
      "    value: \"Palestine\"\n",
      "  }\n",
      "  metric_values {\n",
      "    value: \"1\"\n",
      "  }\n",
      "}\n",
      "rows {\n",
      "  dimension_values {\n",
      "    value: \"Türkiye\"\n",
      "  }\n",
      "  metric_values {\n",
      "    value: \"1\"\n",
      "  }\n",
      "}\n",
      "row_count: 26\n",
      "metadata {\n",
      "  currency_code: \"USD\"\n",
      "  time_zone: \"Etc/GMT-2\"\n",
      "}\n",
      "kind: \"analyticsData#runReport\"\n",
      "\n"
     ]
    }
   ],
   "source": [
    "from google.analytics.data_v1beta import BetaAnalyticsDataClient\n",
    "from google.analytics.data_v1beta.types import (\n",
    "    DateRange,\n",
    "    Dimension,\n",
    "    Metric,\n",
    "    RunReportRequest,\n",
    ")\n",
    "client = BetaAnalyticsDataClient(credentials=credentials)\n",
    "property_id = \"\"\n",
    "starting_date = \"8daysAgo\"\n",
    "ending_date = \"yesterday\"\n",
    "\n",
    "request_api = RunReportRequest(\n",
    "    property=f\"properties/{property_id}\",\n",
    "    dimensions=[\n",
    "        Dimension(name=\"country\")\n",
    "        ],\n",
    "        metrics=[\n",
    "            Metric(name=\"sessions\")\n",
    "        ],\n",
    "        date_ranges=[DateRange(start_date=starting_date, end_date=ending_date)],\n",
    "    )\n",
    "response = client.run_report(request_api)\n",
    "print(response)"
   ]
  },
  {
   "cell_type": "markdown",
   "metadata": {},
   "source": [
    "### 2. Save Google Analytics Data into a csv file.\n",
    "This function transform the response into a CSV file using pandas."
   ]
  },
  {
   "cell_type": "code",
   "execution_count": 6,
   "metadata": {},
   "outputs": [],
   "source": [
    "def query_data(api_response):\n",
    "    dimension_headers = [header.name for header in api_response.dimension_headers]\n",
    "    metric_headers = [header.name for header in api_response.metric_headers]\n",
    "    dimensions = []\n",
    "    metrics = []\n",
    "    for i in range(len(dimension_headers)):\n",
    "        dimensions.append([row.dimension_values[i].value for row in api_response.rows])\n",
    "    dimensions\n",
    "    for i in range(len(metric_headers)):\n",
    "        metrics.append([row.metric_values[i].value for row in api_response.rows])\n",
    "    headers = dimension_headers, metric_headers\n",
    "    headers = list(itertools.chain.from_iterable(headers))   \n",
    "    data = dimensions, metrics\n",
    "    data = list(itertools.chain.from_iterable(data))\n",
    "    df = pd.DataFrame(data)\n",
    "    df = df.transpose()\n",
    "    df.columns = headers\n",
    "    return df"
   ]
  },
  {
   "cell_type": "markdown",
   "metadata": {},
   "source": [
    "Saving the csv into a file"
   ]
  },
  {
   "cell_type": "code",
   "execution_count": 9,
   "metadata": {},
   "outputs": [
    {
     "name": "stdout",
     "output_type": "stream",
     "text": [
      "                 country sessions\n",
      "0                Algeria       84\n",
      "1                Morocco       52\n",
      "2                   Iraq       44\n",
      "3           Saudi Arabia       44\n",
      "4                  Egypt       42\n",
      "5                 Jordan       28\n",
      "6                  Libya       22\n",
      "7                  Yemen       22\n",
      "8                Tunisia       15\n",
      "9                Lebanon       14\n",
      "10                 Syria       12\n",
      "11                Israel       11\n",
      "12                 Sudan        8\n",
      "13                  Oman        4\n",
      "14             Singapore        4\n",
      "15  United Arab Emirates        4\n",
      "16               Bahrain        3\n",
      "17               Austria        2\n",
      "18               Germany        2\n",
      "19                  Chad        1\n",
      "20                France        1\n",
      "21                Kuwait        1\n",
      "22            Mauritania        1\n",
      "23           Netherlands        1\n",
      "24             Palestine        1\n",
      "25               Türkiye        1\n"
     ]
    }
   ],
   "source": [
    "df = query_data(response)\n",
    "df.to_csv('file.csv', index=False)\n",
    "print(df)"
   ]
  },
  {
   "cell_type": "markdown",
   "metadata": {},
   "source": [
    "### 3. Use the output file with the LLM.\n",
    "\n",
    "We will need to load our dataframe into a LangChain Document object."
   ]
  },
  {
   "cell_type": "code",
   "execution_count": 11,
   "metadata": {},
   "outputs": [
    {
     "name": "stdout",
     "output_type": "stream",
     "text": [
      "document count: 26\n",
      "[Document(page_content='Algeria', metadata={'sessions': '84'}), Document(page_content='Morocco', metadata={'sessions': '52'}), Document(page_content='Iraq', metadata={'sessions': '44'}), Document(page_content='Saudi Arabia', metadata={'sessions': '44'}), Document(page_content='Egypt', metadata={'sessions': '42'}), Document(page_content='Jordan', metadata={'sessions': '28'}), Document(page_content='Libya', metadata={'sessions': '22'}), Document(page_content='Yemen', metadata={'sessions': '22'}), Document(page_content='Tunisia', metadata={'sessions': '15'}), Document(page_content='Lebanon', metadata={'sessions': '14'}), Document(page_content='Syria', metadata={'sessions': '12'}), Document(page_content='Israel', metadata={'sessions': '11'}), Document(page_content='Sudan', metadata={'sessions': '8'}), Document(page_content='Oman', metadata={'sessions': '4'}), Document(page_content='Singapore', metadata={'sessions': '4'}), Document(page_content='United Arab Emirates', metadata={'sessions': '4'}), Document(page_content='Bahrain', metadata={'sessions': '3'}), Document(page_content='Austria', metadata={'sessions': '2'}), Document(page_content='Germany', metadata={'sessions': '2'}), Document(page_content='Chad', metadata={'sessions': '1'}), Document(page_content='France', metadata={'sessions': '1'}), Document(page_content='Kuwait', metadata={'sessions': '1'}), Document(page_content='Mauritania', metadata={'sessions': '1'}), Document(page_content='Netherlands', metadata={'sessions': '1'}), Document(page_content='Palestine', metadata={'sessions': '1'}), Document(page_content='Türkiye', metadata={'sessions': '1'})]\n"
     ]
    }
   ],
   "source": [
    "from langchain.document_loaders import DataFrameLoader\n",
    "\n",
    "loader = DataFrameLoader(df, page_content_column=\"country\")\n",
    "\n",
    "docs = loader.load()\n",
    "print(f'document count: {len(docs)}')\n",
    "print(docs if len(docs) > 0 else None)"
   ]
  },
  {
   "cell_type": "markdown",
   "metadata": {},
   "source": [
    "Split the document and transform it into an embedding, then save it to a vector database."
   ]
  },
  {
   "cell_type": "code",
   "execution_count": 12,
   "metadata": {},
   "outputs": [
    {
     "name": "stdout",
     "output_type": "stream",
     "text": [
      "splits [Document(page_content='Algeria', metadata={'sessions': '84'}), Document(page_content='Morocco', metadata={'sessions': '52'}), Document(page_content='Iraq', metadata={'sessions': '44'}), Document(page_content='Saudi Arabia', metadata={'sessions': '44'}), Document(page_content='Egypt', metadata={'sessions': '42'}), Document(page_content='Jordan', metadata={'sessions': '28'}), Document(page_content='Libya', metadata={'sessions': '22'}), Document(page_content='Yemen', metadata={'sessions': '22'}), Document(page_content='Tunisia', metadata={'sessions': '15'}), Document(page_content='Lebanon', metadata={'sessions': '14'}), Document(page_content='Syria', metadata={'sessions': '12'}), Document(page_content='Israel', metadata={'sessions': '11'}), Document(page_content='Sudan', metadata={'sessions': '8'}), Document(page_content='Oman', metadata={'sessions': '4'}), Document(page_content='Singapore', metadata={'sessions': '4'}), Document(page_content='United Arab Emirates', metadata={'sessions': '4'}), Document(page_content='Bahrain', metadata={'sessions': '3'}), Document(page_content='Austria', metadata={'sessions': '2'}), Document(page_content='Germany', metadata={'sessions': '2'}), Document(page_content='Chad', metadata={'sessions': '1'}), Document(page_content='France', metadata={'sessions': '1'}), Document(page_content='Kuwait', metadata={'sessions': '1'}), Document(page_content='Mauritania', metadata={'sessions': '1'}), Document(page_content='Netherlands', metadata={'sessions': '1'}), Document(page_content='Palestine', metadata={'sessions': '1'}), Document(page_content='Türkiye', metadata={'sessions': '1'})]\n",
      "bert_load_from_file: gguf version     = 2\n",
      "bert_load_from_file: gguf alignment   = 32\n",
      "bert_load_from_file: gguf data offset = 695552\n",
      "bert_load_from_file: model name           = BERT\n",
      "bert_load_from_file: model architecture   = bert\n",
      "bert_load_from_file: model file type      = 1\n",
      "bert_load_from_file: bert tokenizer vocab = 30522\n"
     ]
    }
   ],
   "source": [
    "from langchain.text_splitter import RecursiveCharacterTextSplitter\n",
    "from langchain.vectorstores import Chroma\n",
    "from langchain.embeddings import GPT4AllEmbeddings, OpenAIEmbeddings\n",
    "\n",
    "text_splitter = RecursiveCharacterTextSplitter(chunk_size=1000, chunk_overlap=200)\n",
    "splits = text_splitter.split_documents(docs)\n",
    "print(f'splits {splits}')\n",
    "vectorstore = Chroma.from_documents(documents=splits, embedding=GPT4AllEmbeddings())\n",
    "\n",
    "# You can also use OpenAIEmbeddings\n",
    "# vectorstore = Chroma.from_documents(documents=splits, embedding=OpenAIEmbeddings())\n",
    "\n",
    "\n",
    "retriever = vectorstore.as_retriever()"
   ]
  },
  {
   "cell_type": "markdown",
   "metadata": {},
   "source": [
    "Initialize our LLM."
   ]
  },
  {
   "cell_type": "code",
   "execution_count": 17,
   "metadata": {},
   "outputs": [
    {
     "name": "stderr",
     "output_type": "stream",
     "text": [
      "warning: failed to mlock 33030144-byte buffer (after previously locking 3901521920 bytes): Resource temporarily unavailable\n"
     ]
    }
   ],
   "source": [
    "from langchain.llms import GPT4All, OpenAI\n",
    "from langchain.callbacks.streaming_stdout import StreamingStdOutCallbackHandler\n",
    "\n",
    "\n",
    "\n",
    "local_path = (\n",
    "    \"/Users/new/Library/Application Support/nomic.ai/GPT4All/mistral-7b-instruct-v0.1.Q4_0.gguf\"  # replace with your desired local file path\n",
    ")\n",
    "\n",
    "# # Callbacks support token-wise streaming\n",
    "callbacks = [StreamingStdOutCallbackHandler()]\n",
    "\n",
    "# # Verbose is required to pass to the callback manager\n",
    "llm = GPT4All(model=local_path, callbacks=callbacks, verbose=True)\n",
    "\n",
    "# You can also use OpenAI API\n",
    "# llm = OpenAI(model=\"gpt-3.5-turbo-16k\")"
   ]
  },
  {
   "cell_type": "markdown",
   "metadata": {},
   "source": [
    "Create a chain and invoke your prompt"
   ]
  },
  {
   "cell_type": "code",
   "execution_count": 20,
   "metadata": {},
   "outputs": [
    {
     "name": "stdout",
     "output_type": "stream",
     "text": [
      "- How much views did I get from Saudi Arabia, Iraq, and Sudan each? and do you think that is good for my plan?\n",
      "\n",
      "\n",
      "\u001b[1m> Entering new RetrievalQA chain...\u001b[0m\n",
      " To answer this question, we need to add up the total number of views from all three countries. From the given contexts, we can see that you got 44 views in total (22 from Saudi Arabia, 16 from Iraq and 6 from Sudan). This is more than what your plan required as you only needed at least 30 views from at least two countries. So yes, I think this is good for your plan.\n",
      "\u001b[1m> Finished chain.\u001b[0m\n",
      "\n",
      "- What countries I got only 1 or 2 views from?\n",
      "\n",
      "\n",
      "\u001b[1m> Entering new RetrievalQA chain...\u001b[0m\n",
      " Germany and Netherlands\n",
      "\u001b[1m> Finished chain.\u001b[0m\n"
     ]
    },
    {
     "data": {
      "text/plain": [
       "{'query': 'What countries I got only 1 or 2 views from?',\n",
       " 'result': ' Germany and Netherlands'}"
      ]
     },
     "execution_count": 20,
     "metadata": {},
     "output_type": "execute_result"
    }
   ],
   "source": [
    "from langchain import hub\n",
    "from langchain.chains import RetrievalQA\n",
    "from langchain.prompts import PromptTemplate\n",
    "\n",
    "prompt = hub.pull(\"rlm/rag-prompt\")\n",
    "\n",
    "def format_docs(docs):\n",
    "    return \"\\n\\n\".join(doc.page_content for doc in docs)\n",
    "\n",
    "qa_chain = RetrievalQA.from_chain_type(\n",
    "\t\tllm,\n",
    "\t\tretriever=retriever,\n",
    "\t\tverbose=True, \n",
    "\t\tchain_type_kwargs={\n",
    "\t\t        'document_prompt': PromptTemplate(\n",
    "\t\t            input_variables=[\"page_content\"], \n",
    "\t\t            template=\"Context:\\n{page_content}\\Views:{sessions}\\Plan: Get at least 30 views from at least 2 countries\"\n",
    "\t\t        ),\n",
    "\t\t    },\n",
    "\t\t)\n",
    "\n",
    "prompt1 = \"How much views did I get from Saudi Arabia, Iraq, and Sudan each? and do you think that is good for my plan?\"\n",
    "print(f'- {prompt1}')\n",
    "qa_chain.invoke(prompt1)\n",
    "prompt2 = \"What countries I got only 1 or 2 views from?\"\n",
    "print(f'\\n- {prompt2}')\n",
    "qa_chain.invoke(prompt2)"
   ]
  }
 ],
 "metadata": {
  "kernelspec": {
   "display_name": "Python 3",
   "language": "python",
   "name": "python3"
  },
  "language_info": {
   "codemirror_mode": {
    "name": "ipython",
    "version": 3
   },
   "file_extension": ".py",
   "mimetype": "text/x-python",
   "name": "python",
   "nbconvert_exporter": "python",
   "pygments_lexer": "ipython3",
   "version": "3.9.6"
  }
 },
 "nbformat": 4,
 "nbformat_minor": 2
}
